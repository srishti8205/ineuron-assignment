{
 "cells": [
  {
   "cell_type": "markdown",
   "id": "77b07fd2",
   "metadata": {},
   "source": [
    "# Assignment 2"
   ]
  },
  {
   "cell_type": "markdown",
   "id": "ab9aa60e",
   "metadata": {},
   "source": [
    "#1.What are the two values of the Boolean data type? How do you write them?"
   ]
  },
  {
   "cell_type": "markdown",
   "id": "f729bbc1",
   "metadata": {},
   "source": [
    "Ans.A boolean data type is a value that can only be either true or false.\n",
    "    A true Boolean value might indicate that the object is valid\n",
    "    (e.g. an email address has been typed correctly).\n",
    "    A false Boolean value indicates that the object is invalid and has not been done correctly \n",
    "    (e.g. you’ve forgotten to fill out a required field)."
   ]
  },
  {
   "cell_type": "code",
   "execution_count": 1,
   "id": "2c8f606f",
   "metadata": {},
   "outputs": [
    {
     "name": "stdout",
     "output_type": "stream",
     "text": [
      "<class 'bool'>\n"
     ]
    }
   ],
   "source": [
    "a= True\n",
    "print(type(a))"
   ]
  },
  {
   "cell_type": "code",
   "execution_count": 2,
   "id": "937ced10",
   "metadata": {},
   "outputs": [
    {
     "name": "stdout",
     "output_type": "stream",
     "text": [
      "<class 'bool'>\n"
     ]
    }
   ],
   "source": [
    "b=False\n",
    "print(type(b))"
   ]
  },
  {
   "cell_type": "markdown",
   "id": "af343893",
   "metadata": {},
   "source": [
    "#2. What are the three different types of Boolean operators?"
   ]
  },
  {
   "cell_type": "markdown",
   "id": "197b718a",
   "metadata": {},
   "source": [
    "Ans.\n",
    "    There are three types of boolean operators:\n",
    "    The AND operator (&& or \"and\"),\n",
    "    The OR operator (|| or \"or\"),\n",
    "    The NOT operator (not)\n",
    "    "
   ]
  },
  {
   "cell_type": "markdown",
   "id": "a8131666",
   "metadata": {},
   "source": [
    "#3. Make a list of each Boolean operator's truth tables (i.e. every possible combination of Boolean values for the operator and     what it evaluate )."
   ]
  },
  {
   "cell_type": "markdown",
   "id": "dbcf5959",
   "metadata": {},
   "source": [
    "Ans.  Truth table for booleans operator's are as follows:\n",
    "    \n",
    "       Truth table for AND boolean operator:\n",
    "       True and True = True,\n",
    "       True and False = False,\n",
    "       False and True = False,\n",
    "       False and False = False\n",
    "       \n",
    "       Truth table for OR boolean operator:\n",
    "       \n",
    "       True and True = True,\n",
    "       True and False = True,\n",
    "       False and True = True,\n",
    "       False and False = False\n",
    "       \n",
    "       Truth table for NOt boolean operator:\n",
    "       \n",
    "       not(True) = False,\n",
    "       not(False) = True"
   ]
  },
  {
   "cell_type": "markdown",
   "id": "11e25f0d",
   "metadata": {},
   "source": [
    "#4. What are the values of the following expressions?\n",
    "     (5 > 4) and (3 == 5)\n",
    "     not (5 > 4)\n",
    "     (5 > 4) or (3 == 5)\n",
    "     not ((5 > 4) or (3 == 5))\n",
    "     (True and True) and (True == False)\n",
    "     (not False) or (not True)"
   ]
  },
  {
   "cell_type": "code",
   "execution_count": 6,
   "id": "cbc67515",
   "metadata": {},
   "outputs": [
    {
     "data": {
      "text/plain": [
       "False"
      ]
     },
     "execution_count": 6,
     "metadata": {},
     "output_type": "execute_result"
    }
   ],
   "source": [
    "#Ans.\n",
    "(5 > 4) and (3 == 5)"
   ]
  },
  {
   "cell_type": "code",
   "execution_count": 7,
   "id": "55f6ac25",
   "metadata": {},
   "outputs": [
    {
     "data": {
      "text/plain": [
       "False"
      ]
     },
     "execution_count": 7,
     "metadata": {},
     "output_type": "execute_result"
    }
   ],
   "source": [
    " not (5 > 4)"
   ]
  },
  {
   "cell_type": "code",
   "execution_count": 8,
   "id": "9d39729e",
   "metadata": {},
   "outputs": [
    {
     "data": {
      "text/plain": [
       "False"
      ]
     },
     "execution_count": 8,
     "metadata": {},
     "output_type": "execute_result"
    }
   ],
   "source": [
    " not (5 > 4)"
   ]
  },
  {
   "cell_type": "code",
   "execution_count": 9,
   "id": "76a19253",
   "metadata": {},
   "outputs": [
    {
     "data": {
      "text/plain": [
       "False"
      ]
     },
     "execution_count": 9,
     "metadata": {},
     "output_type": "execute_result"
    }
   ],
   "source": [
    "not ((5 > 4) or (3 == 5))"
   ]
  },
  {
   "cell_type": "code",
   "execution_count": 10,
   "id": "f0ba8ad5",
   "metadata": {},
   "outputs": [
    {
     "data": {
      "text/plain": [
       "False"
      ]
     },
     "execution_count": 10,
     "metadata": {},
     "output_type": "execute_result"
    }
   ],
   "source": [
    "(True and True) and (True == False)"
   ]
  },
  {
   "cell_type": "code",
   "execution_count": 11,
   "id": "7254e3fc",
   "metadata": {},
   "outputs": [
    {
     "data": {
      "text/plain": [
       "True"
      ]
     },
     "execution_count": 11,
     "metadata": {},
     "output_type": "execute_result"
    }
   ],
   "source": [
    "(not False) or (not True)"
   ]
  },
  {
   "cell_type": "markdown",
   "id": "a6eaca3c",
   "metadata": {},
   "source": [
    "#5. What are the six comparison operators?"
   ]
  },
  {
   "cell_type": "markdown",
   "id": "2264f8e7",
   "metadata": {},
   "source": [
    "Ans. In Python, there are six types of comparison operators:\n",
    "\n",
    "     1. Less than (<)\n",
    "     2. Greater than (>)\n",
    "     3. Less than or equal to (<=)\n",
    "     4. Greater than or equal to (>=)\n",
    "     5. Equal to (==)\n",
    "     6. Not equal to (!=)"
   ]
  },
  {
   "cell_type": "markdown",
   "id": "1fcf65f0",
   "metadata": {},
   "source": [
    "#6. How do you tell the difference between the equal to and assignment operators? \n",
    "    Describe a condition and when you would use one.\n",
    " "
   ]
  },
  {
   "cell_type": "markdown",
   "id": "e958cd69",
   "metadata": {},
   "source": [
    "Ans. Assignment Operator: The assignment operator is used to assign the values to the variable.\n",
    "     Equality Operator: The equality operator is used to compare the values of both the variables and \n",
    "     the result is true or false."
   ]
  },
  {
   "cell_type": "code",
   "execution_count": 18,
   "id": "ce8e5145",
   "metadata": {},
   "outputs": [
    {
     "name": "stdout",
     "output_type": "stream",
     "text": [
      "False\n",
      "5 4\n"
     ]
    }
   ],
   "source": [
    "#Example of Assignment Operator(=) and equal to operstor(==):\n",
    "a=5 \n",
    "b=4\n",
    "print(a==b)#comparing a and b\n",
    "print(a,b)"
   ]
  },
  {
   "cell_type": "markdown",
   "id": "7a16e780",
   "metadata": {},
   "source": [
    "#7. Identify the three blocks in this code:\n",
    "    spam = 0\n",
    "    if spam == 10:\n",
    "    print('eggs')\n",
    "    if spam > 5:\n",
    "    print('bacon')\n",
    "    else:\n",
    "    print('ham')\n",
    "    print('spam')\n",
    "    print('spam')"
   ]
  },
  {
   "cell_type": "code",
   "execution_count": 30,
   "id": "b2168bf7",
   "metadata": {},
   "outputs": [
    {
     "name": "stdout",
     "output_type": "stream",
     "text": [
      "ham\n",
      "spam\n",
      "spam\n"
     ]
    }
   ],
   "source": [
    "    \n",
    "    spam = 0\n",
    "    if spam == 10:\n",
    "        print('eggs')  # block 1\n",
    "    if spam > 5:\n",
    "             print('bacon') # block 2\n",
    "    else:\n",
    "             print('ham') # block 3\n",
    "    print('spam')\n",
    "    print('spam')"
   ]
  },
  {
   "cell_type": "markdown",
   "id": "bfafab88",
   "metadata": {},
   "source": [
    "#8. Write code that prints Hello if 1 is stored in spam, prints Howdy if 2 is stored in spam, and prints\n",
    "      Greetings! if anything else is stored in spam."
   ]
  },
  {
   "cell_type": "code",
   "execution_count": 37,
   "id": "9d823442",
   "metadata": {},
   "outputs": [
    {
     "name": "stdout",
     "output_type": "stream",
     "text": [
      "enter the value of spam=2\n",
      "Howdy\n"
     ]
    }
   ],
   "source": [
    "    spam = int(input(\"enter the value of spam=\"))\n",
    "    if spam == 1:\n",
    "        print('Hello')  \n",
    "    elif spam == 2:\n",
    "             print('Howdy') \n",
    "    else:\n",
    "             print('Greetings') "
   ]
  },
  {
   "cell_type": "markdown",
   "id": "1b2701f7",
   "metadata": {},
   "source": [
    "#9.If your programme is stuck in an endless loop, what keys you’ll press?"
   ]
  },
  {
   "cell_type": "markdown",
   "id": "a2f27550",
   "metadata": {},
   "source": [
    "Ans. Press Ctrl+C to stop a program stuck in an endless loop."
   ]
  },
  {
   "cell_type": "markdown",
   "id": "c616cda2",
   "metadata": {},
   "source": [
    "#10. How can you tell the difference between break and continue?"
   ]
  },
  {
   "cell_type": "code",
   "execution_count": 41,
   "id": "779fd1bf",
   "metadata": {},
   "outputs": [
    {
     "name": "stdout",
     "output_type": "stream",
     "text": [
      "1\n",
      "3\n",
      "5\n",
      "7\n",
      "9\n"
     ]
    }
   ],
   "source": [
    "#The Python break statement breaks out of a loop.\n",
    "number = 1 \n",
    "  \n",
    "while True : #This means the loop will continue infinite time\n",
    "        print (number) #print the number\n",
    "        number+=2 #calculate next odd number\n",
    "  \n",
    "        # Now give the breaking condition\n",
    "        if number > 10:\n",
    "                break;\n",
    "                #Breaks the loop if number is greater than ten\n",
    "                print (number) #This statement won't be executed\n"
   ]
  },
  {
   "cell_type": "code",
   "execution_count": 42,
   "id": "f1aa4506",
   "metadata": {},
   "outputs": [
    {
     "name": "stdout",
     "output_type": "stream",
     "text": [
      "2\n",
      "is double of\n",
      "1\n",
      "4\n",
      "is double of\n",
      "2\n",
      "6\n",
      "is double of\n",
      "3\n",
      "8\n",
      "is double of\n",
      "4\n",
      "10\n",
      "is double of\n",
      "5\n",
      "12\n",
      "is double of\n",
      "6\n",
      "7 is skipped\n",
      "16\n",
      "is double of\n",
      "8\n",
      "18\n",
      "is double of\n",
      "9\n",
      "20\n",
      "is double of\n",
      "10\n"
     ]
    }
   ],
   "source": [
    "#The Python continue statement is used to skip an iteration of the loop when a condition is met.\n",
    "numbers = range(1,11)\n",
    "'''\n",
    "the range(a,b) function creates a list of number 1 to (b-1)\n",
    "So, in this case it would generate\n",
    "numbers from 1 to 10\n",
    "'''\n",
    "for number in numbers:\n",
    "        #check the skipping condition\n",
    "        if number == 7:\n",
    "                #this statement will be executed\n",
    "                print(\"7 is skipped\")\n",
    "                continue\n",
    "                #this statement won't be executed\n",
    "                print (\"This won't be printed\")\n",
    "  \n",
    "        #print the values\n",
    "        #for example:\n",
    "        #2 is double of 1\n",
    "        print (number*2),\n",
    "        print (\"is double of\"),\n",
    "        print (number)\n"
   ]
  },
  {
   "cell_type": "markdown",
   "id": "75e41da9",
   "metadata": {},
   "source": [
    "#11. In a for loop, what is the difference between range(10), range(0, 10), and range(0, 10, 1)?"
   ]
  },
  {
   "cell_type": "markdown",
   "id": "a6c1d5a5",
   "metadata": {},
   "source": [
    " Ans.The Differences are as follows:\n",
    "       1.The range(10) call range from 0 to 9 (but not include 10)\n",
    "       2.The range (0,10) tells the loop to start at 0 and ends on 9(but not include 10)\n",
    "       3.The range(0,10,1) tells the loop to start from 0 and increase the variable by 1 on each iteration and ends on 9\n",
    "       (but not include 10)\n"
   ]
  },
  {
   "cell_type": "markdown",
   "id": "ab70b277",
   "metadata": {},
   "source": [
    "#12. Write a short program that prints the numbers 1 to 10 using a for loop. Then write an equivalent\n",
    "program that prints the numbers 1 to 10 using a while loop.\n"
   ]
  },
  {
   "cell_type": "code",
   "execution_count": 43,
   "id": "665c7aea",
   "metadata": {},
   "outputs": [
    {
     "name": "stdout",
     "output_type": "stream",
     "text": [
      "1\n",
      "2\n",
      "3\n",
      "4\n",
      "5\n",
      "6\n",
      "7\n",
      "8\n",
      "9\n",
      "10\n"
     ]
    }
   ],
   "source": [
    "#A short program that prints the numbers 1 to 10 using a for loop.\n",
    "for i in range(1, 11):\n",
    "    print(i)"
   ]
  },
  {
   "cell_type": "code",
   "execution_count": 44,
   "id": "f7b1a6e5",
   "metadata": {},
   "outputs": [
    {
     "name": "stdout",
     "output_type": "stream",
     "text": [
      "Prints the numbers 1 to 10 using a while loop:\n",
      "1 2 3 4 5 6 7 8 9 10 "
     ]
    }
   ],
   "source": [
    "# Program that prints the numbers 1 to 10 using a while loop.\n",
    "print('Prints the numbers 1 to 10 using a while loop:')\n",
    "n = 1\n",
    "while n <= 10:\n",
    "   print(n, end=' ')\n",
    "   n = n+1"
   ]
  },
  {
   "cell_type": "markdown",
   "id": "beda912f",
   "metadata": {},
   "source": [
    "#13. If you had a function named bacon() inside a module named spam, how would you call it after\n",
    "importing spam?"
   ]
  },
  {
   "cell_type": "markdown",
   "id": "c60dd16d",
   "metadata": {},
   "source": [
    "Ans.This function can be called with spam.bacon()"
   ]
  }
 ],
 "metadata": {
  "kernelspec": {
   "display_name": "Python 3 (ipykernel)",
   "language": "python",
   "name": "python3"
  },
  "language_info": {
   "codemirror_mode": {
    "name": "ipython",
    "version": 3
   },
   "file_extension": ".py",
   "mimetype": "text/x-python",
   "name": "python",
   "nbconvert_exporter": "python",
   "pygments_lexer": "ipython3",
   "version": "3.9.12"
  }
 },
 "nbformat": 4,
 "nbformat_minor": 5
}

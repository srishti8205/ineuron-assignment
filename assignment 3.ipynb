{
 "cells": [
  {
   "cell_type": "markdown",
   "id": "0f61012a",
   "metadata": {},
   "source": [
    "# Assignment 3"
   ]
  },
  {
   "cell_type": "markdown",
   "id": "3b721986",
   "metadata": {},
   "source": [
    "#1. Why are functions advantageous to have in your programs?"
   ]
  },
  {
   "cell_type": "markdown",
   "id": "eb367c9a",
   "metadata": {},
   "source": [
    "Ans.Advantage of Functions in Python\n",
    "    There are the following advantages of Python functions.\n",
    "    \n",
    "       1.Using functions, we can avoid rewriting the same logic/code again and again in a program.\n",
    "       2.We can call Python functions multiple times in a program and anywhere in a program.\n",
    "       3.We can track a large Python program easily when it is divided into multiple functions.\n",
    "       4.Reusability is the main achievement of Python functions.\n",
    "       5.However, Function calling is always overhead in a Python program."
   ]
  },
  {
   "cell_type": "markdown",
   "id": "c717f82e",
   "metadata": {},
   "source": [
    "#2. When does the code in a function run: when it's specified or when it's called?"
   ]
  },
  {
   "cell_type": "markdown",
   "id": "b4fa66fd",
   "metadata": {},
   "source": [
    "Ans. The code in a function executes when the function is called, not when the function is defined."
   ]
  },
  {
   "cell_type": "markdown",
   "id": "8f760bf0",
   "metadata": {},
   "source": [
    "#3. What statement creates a function?"
   ]
  },
  {
   "cell_type": "markdown",
   "id": "064eca31",
   "metadata": {},
   "source": [
    "Ans: The def statement defines a function\n",
    "      Syntax of Function:\n",
    "      def function_name(parameters):\n",
    "      \"\"\"doc string\"\"\"          \n",
    "      -----function body-----\n",
    "      -----function body-----\n",
    "      return value"
   ]
  },
  {
   "cell_type": "markdown",
   "id": "a5316e72",
   "metadata": {},
   "source": [
    "#4. What is the difference between a function and a function call?"
   ]
  },
  {
   "cell_type": "markdown",
   "id": "cedd494b",
   "metadata": {},
   "source": [
    "Ans. A function is procedure to achieve a particular result while function call is using this function \n",
    "     to achive that task.The opening and closing braces defines the scope of that function while the code \n",
    "     between these braces is the actuall code/procedure to achieve the goal."
   ]
  },
  {
   "cell_type": "markdown",
   "id": "747a5fa0",
   "metadata": {},
   "source": [
    "#5. How many global scopes are there in a Python program? How many local scopes?"
   ]
  },
  {
   "cell_type": "markdown",
   "id": "b9d2c309",
   "metadata": {},
   "source": [
    "Ans. There is one global scope, and a local scope is created whenever a function is called."
   ]
  },
  {
   "cell_type": "markdown",
   "id": "48381f77",
   "metadata": {},
   "source": [
    "#6. What happens to variables in a local scope when the function call returns?"
   ]
  },
  {
   "cell_type": "markdown",
   "id": "d9e14a81",
   "metadata": {},
   "source": [
    "Ans. A local scope is created whenever a function is called.Any variables assigned in this function exist\n",
    "     within the local scope, and can only be accessed from the point \n",
    "     at which it was originally defined.\n",
    "     We can have as many local scopes as function calls, \n",
    "     and each local scope gets deleted once the function returns."
   ]
  },
  {
   "cell_type": "markdown",
   "id": "3ad6b345",
   "metadata": {},
   "source": [
    "#7. What is the concept of a return value? Is it possible to have a return value in an expression?"
   ]
  },
  {
   "cell_type": "markdown",
   "id": "d46f41c4",
   "metadata": {},
   "source": [
    "Ans. A return statement is used to end the execution of the function call and returns the result \n",
    "(value of the expression following the return keyword) to the caller. \n",
    "The statements after the return statements are not executed. \n",
    "If the return statement is without any expression, then the special value None is returned.\n",
    "Yes it is possible to return value in an expression.\n",
    "If a return statement is followed by an expression list, that expression list is evaluated and the value is returned:\n",
    "If a return statement is reached during the execution of a function, the current function call is left at that point:\n",
    "If there is no return statement the function returns None when it reaches the end:"
   ]
  },
  {
   "cell_type": "markdown",
   "id": "909e80bc",
   "metadata": {},
   "source": [
    "#8. If a function does not have a return statement, what is the return value of a call to that function?"
   ]
  },
  {
   "cell_type": "markdown",
   "id": "99215d26",
   "metadata": {},
   "source": [
    "Ans. If there is no return statement for a function, its return value is None."
   ]
  },
  {
   "cell_type": "markdown",
   "id": "53daf884",
   "metadata": {},
   "source": [
    "#9. How do you make a function variable refer to the global variable?"
   ]
  },
  {
   "cell_type": "markdown",
   "id": "a1014cb1",
   "metadata": {},
   "source": [
    "Ans.If you want to refer to a global variable in a function, \n",
    "    we can use the global keyword to declare which variables are global."
   ]
  },
  {
   "cell_type": "markdown",
   "id": "d1a8ec44",
   "metadata": {},
   "source": [
    "#10. What is the data type of None?"
   ]
  },
  {
   "cell_type": "markdown",
   "id": "fba42770",
   "metadata": {},
   "source": [
    "Ans. The data type of None is NoneType."
   ]
  },
  {
   "cell_type": "markdown",
   "id": "58ffe716",
   "metadata": {},
   "source": [
    "#11. What does the sentence import areallyourpetsnamederic do?"
   ]
  },
  {
   "cell_type": "markdown",
   "id": "cc3de170",
   "metadata": {},
   "source": [
    "Ans. That import statement imports a module named areallyourpetsnamederic."
   ]
  },
  {
   "cell_type": "markdown",
   "id": "02b39279",
   "metadata": {},
   "source": [
    "#12. If you had a bacon() feature in a spam module, what would you call it after importing spam?"
   ]
  },
  {
   "cell_type": "markdown",
   "id": "32ebbac5",
   "metadata": {},
   "source": [
    "Ans. This function can be called as spam.bacon()."
   ]
  },
  {
   "cell_type": "markdown",
   "id": "00064345",
   "metadata": {},
   "source": [
    "#13. What can you do to save a programme from crashing if it encounters an error?"
   ]
  },
  {
   "cell_type": "markdown",
   "id": "9b902e9d",
   "metadata": {},
   "source": [
    "Ans. Error handling can be used  to save a programme from crashing if it encounters an error."
   ]
  },
  {
   "cell_type": "markdown",
   "id": "4f8084db",
   "metadata": {},
   "source": [
    "#14. What is the purpose of the try clause? What is the purpose of the except clause?"
   ]
  },
  {
   "cell_type": "markdown",
   "id": "19c18ac4",
   "metadata": {},
   "source": [
    "Ans. The try-except clause is used for handeling exceptions (errors at runtime). \n",
    "     The syntax of the try-except block is:\n",
    "        try: the code with the exception (s) to catch. \n",
    "        If an exception is raised, it jumps straight into the except block. \n",
    "        except: this code is only executed if an exception occured in the try block."
   ]
  }
 ],
 "metadata": {
  "kernelspec": {
   "display_name": "Python 3 (ipykernel)",
   "language": "python",
   "name": "python3"
  },
  "language_info": {
   "codemirror_mode": {
    "name": "ipython",
    "version": 3
   },
   "file_extension": ".py",
   "mimetype": "text/x-python",
   "name": "python",
   "nbconvert_exporter": "python",
   "pygments_lexer": "ipython3",
   "version": "3.9.12"
  }
 },
 "nbformat": 4,
 "nbformat_minor": 5
}

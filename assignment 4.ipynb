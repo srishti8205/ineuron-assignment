{
 "cells": [
  {
   "cell_type": "markdown",
   "id": "270834a0",
   "metadata": {},
   "source": [
    "# Assignment 4"
   ]
  },
  {
   "cell_type": "markdown",
   "id": "65aeb567",
   "metadata": {},
   "source": [
    "#1. What exactly is []?"
   ]
  },
  {
   "cell_type": "raw",
   "id": "07a3599c",
   "metadata": {},
   "source": [
    "Ans.The empty list represented by [] . It is a list that contains no items."
   ]
  },
  {
   "cell_type": "code",
   "execution_count": 5,
   "id": "8f894896",
   "metadata": {},
   "outputs": [
    {
     "data": {
      "text/plain": [
       "list"
      ]
     },
     "execution_count": 5,
     "metadata": {},
     "output_type": "execute_result"
    }
   ],
   "source": [
    "type([])"
   ]
  },
  {
   "cell_type": "markdown",
   "id": "a989134d",
   "metadata": {},
   "source": [
    "#2. In a list of values stored in a variable called spam, how would you assign the value 'hello' as the\n",
    "third value? (Assume [2, 4, 6, 8, 10] are in spam.)"
   ]
  },
  {
   "cell_type": "code",
   "execution_count": 10,
   "id": "454b8663",
   "metadata": {},
   "outputs": [
    {
     "name": "stdout",
     "output_type": "stream",
     "text": [
      "[2, 4, 6, 8, 9]\n"
     ]
    }
   ],
   "source": [
    "spam=[2,4,6,8,9]\n",
    "print(spam)"
   ]
  },
  {
   "cell_type": "code",
   "execution_count": 12,
   "id": "8cc5b743",
   "metadata": {},
   "outputs": [
    {
     "name": "stdout",
     "output_type": "stream",
     "text": [
      "[2, 4, 'Hello', 8, 9]\n"
     ]
    }
   ],
   "source": [
    "spam[2]='Hello'\n",
    "print(spam)"
   ]
  },
  {
   "cell_type": "markdown",
   "id": "18c1e47d",
   "metadata": {},
   "source": [
    "#Let's pretend the spam includes the list ['a','b','c','d'] for the next three queries."
   ]
  },
  {
   "cell_type": "markdown",
   "id": "d197235b",
   "metadata": {},
   "source": [
    "#3. What is the value of spam[int(int('3' * 2) / 11)]?"
   ]
  },
  {
   "cell_type": "code",
   "execution_count": 13,
   "id": "1e437a59",
   "metadata": {},
   "outputs": [
    {
     "data": {
      "text/plain": [
       "8"
      ]
     },
     "execution_count": 13,
     "metadata": {},
     "output_type": "execute_result"
    }
   ],
   "source": [
    "spam[int(int('3' * 2) / 11)]"
   ]
  },
  {
   "cell_type": "markdown",
   "id": "bb8243ef",
   "metadata": {},
   "source": [
    "#4.What is the value of spam[-1]?"
   ]
  },
  {
   "cell_type": "code",
   "execution_count": 14,
   "id": "a563add5",
   "metadata": {},
   "outputs": [
    {
     "data": {
      "text/plain": [
       "9"
      ]
     },
     "execution_count": 14,
     "metadata": {},
     "output_type": "execute_result"
    }
   ],
   "source": [
    "spam[-1]"
   ]
  },
  {
   "cell_type": "markdown",
   "id": "8b54b904",
   "metadata": {},
   "source": [
    "#5. What is the value of spam[:2]?"
   ]
  },
  {
   "cell_type": "code",
   "execution_count": 15,
   "id": "02f276e5",
   "metadata": {},
   "outputs": [
    {
     "data": {
      "text/plain": [
       "[2, 4]"
      ]
     },
     "execution_count": 15,
     "metadata": {},
     "output_type": "execute_result"
    }
   ],
   "source": [
    "spam[:2]"
   ]
  },
  {
   "cell_type": "markdown",
   "id": "1d7a4af5",
   "metadata": {},
   "source": [
    "Let's pretend bacon has the list [3.14,'cat', 11,'cat', True] for the next three questions."
   ]
  },
  {
   "cell_type": "markdown",
   "id": "36b02025",
   "metadata": {},
   "source": [
    "#6. What is the value of bacon.index('cat')?"
   ]
  },
  {
   "cell_type": "code",
   "execution_count": 5,
   "id": "366c03a2",
   "metadata": {},
   "outputs": [
    {
     "data": {
      "text/plain": [
       "1"
      ]
     },
     "execution_count": 5,
     "metadata": {},
     "output_type": "execute_result"
    }
   ],
   "source": [
    "bacon=[3.14,'cat', 11,'cat', True]\n",
    "bacon.index('cat')"
   ]
  },
  {
   "cell_type": "markdown",
   "id": "586ec9c4",
   "metadata": {},
   "source": [
    "#7. How does bacon.append(99) change the look of the list value in bacon?"
   ]
  },
  {
   "cell_type": "code",
   "execution_count": 18,
   "id": "bed422d0",
   "metadata": {},
   "outputs": [
    {
     "name": "stdout",
     "output_type": "stream",
     "text": [
      "[3.14, 'cat', 11, 'cat', True, 99]\n"
     ]
    }
   ],
   "source": [
    "bacon=[3.14,'cat', 11,'cat', True]\n",
    "bacon.append(99)\n",
    "print(bacon)\n",
    "\n"
   ]
  },
  {
   "cell_type": "markdown",
   "id": "4ee87434",
   "metadata": {},
   "source": [
    "#8. How does bacon.remove('cat') change the look of the list in bacon?"
   ]
  },
  {
   "cell_type": "code",
   "execution_count": 16,
   "id": "674723a9",
   "metadata": {},
   "outputs": [
    {
     "name": "stdout",
     "output_type": "stream",
     "text": [
      "[3.14, 11, 'cat', True, 99]\n"
     ]
    }
   ],
   "source": [
    "bacon=[3.14, 'cat', 11, 'cat', True, 99]\n",
    "bacon.remove('cat')\n",
    "print(bacon)"
   ]
  },
  {
   "cell_type": "markdown",
   "id": "505b540f",
   "metadata": {},
   "source": [
    "#9. What are the list concatenation and list replication operators?"
   ]
  },
  {
   "cell_type": "markdown",
   "id": "213083f2",
   "metadata": {},
   "source": [
    "Ans.list concatenation: Concatenating two lists will result in a new list object.\n",
    "    list replication: Items in the sequences are not copied but are referenced multiple times."
   ]
  },
  {
   "cell_type": "code",
   "execution_count": 13,
   "id": "dc634084",
   "metadata": {},
   "outputs": [
    {
     "name": "stdout",
     "output_type": "stream",
     "text": [
      "[1, 2, 33, 4, 55, 6, 7, 8, 10]\n",
      "[1, 2, 33, 4, 55, 6, 7, 8, 10, 1, 2, 33, 4, 55, 6, 7, 8, 10]\n"
     ]
    }
   ],
   "source": [
    "list1=[1,2,33,4]\n",
    "list2=[55,6,7,8,10]\n",
    "list=list1+list2 # Concatenating\n",
    "print(list)\n",
    "print(list*2) #list replication"
   ]
  },
  {
   "cell_type": "markdown",
   "id": "7da94aa1",
   "metadata": {},
   "source": [
    "#10. What is difference between the list methods append() and insert()?"
   ]
  },
  {
   "cell_type": "markdown",
   "id": "03d1edf0",
   "metadata": {},
   "source": [
    "Ans. Insert () command insert the data at given index number while append () command insert the data at the end of the list."
   ]
  },
  {
   "cell_type": "code",
   "execution_count": 24,
   "id": "838c3009",
   "metadata": {},
   "outputs": [
    {
     "name": "stdout",
     "output_type": "stream",
     "text": [
      "[1, 2, 33, 56, 4]\n",
      "[1, 2, 33, 56, 4, 99]\n"
     ]
    }
   ],
   "source": [
    "list1=[1,2,33,4]\n",
    "list1.insert(3,56) #inserting the data '55' at index 3\n",
    "print(list1)\n",
    "list1.append(99) #inserting the data '99' at the end of the list\n",
    "print(list1)"
   ]
  },
  {
   "cell_type": "markdown",
   "id": "7d3aa888",
   "metadata": {},
   "source": [
    "#11. What are the two methods for removing items from a list?"
   ]
  },
  {
   "cell_type": "markdown",
   "id": "e08848aa",
   "metadata": {},
   "source": [
    "Ans.  The methods are remove (), pop (), del(), clear()."
   ]
  },
  {
   "cell_type": "code",
   "execution_count": 25,
   "id": "9ec24744",
   "metadata": {},
   "outputs": [
    {
     "name": "stdout",
     "output_type": "stream",
     "text": [
      "[1, 2, 4, 55, 6, 7, 8, 10, 1, 2, 33, 4, 55, 6, 7, 8, 10]\n"
     ]
    }
   ],
   "source": [
    "list11=[1, 2, 33, 4, 55, 6, 7, 8, 10, 1, 2, 33, 4, 55, 6, 7, 8, 10]\n",
    "list11.remove(33)\n",
    "print(list11) # 33 has been removed from the list"
   ]
  },
  {
   "cell_type": "code",
   "execution_count": 34,
   "id": "e0ad0ab8",
   "metadata": {},
   "outputs": [
    {
     "name": "stdout",
     "output_type": "stream",
     "text": [
      "[1, 2, 4, 6, 7, 8, 10, 1, 2, 33, 4, 55, 6, 7, 8, 10]\n"
     ]
    }
   ],
   "source": [
    "list11=[1, 2, 4, 55, 6, 7, 8, 10, 1, 2, 33, 4, 55, 6, 7, 8, 10]\n",
    "list11.pop(3) # here 3 is the index of element 55 of the list11 \n",
    "print(list11)\n"
   ]
  },
  {
   "cell_type": "code",
   "execution_count": 38,
   "id": "7f292410",
   "metadata": {},
   "outputs": [
    {
     "name": "stdout",
     "output_type": "stream",
     "text": [
      "[2, 4, 55, 6, 7, 8, 10, 1, 2, 33, 4, 55, 6, 7, 8, 10]\n",
      "[]\n"
     ]
    }
   ],
   "source": [
    "list11=[1, 2, 4, 55, 6, 7, 8, 10, 1, 2, 33, 4, 55, 6, 7, 8, 10]\n",
    "del list11[0]# delete a element from the required index\n",
    "print(list11)\n",
    "list11.clear()#it empty the string\n",
    "print(list11)"
   ]
  },
  {
   "cell_type": "markdown",
   "id": "86281c36",
   "metadata": {},
   "source": [
    "#12. Describe how list values and string values are identical."
   ]
  },
  {
   "cell_type": "code",
   "execution_count": 43,
   "id": "77d581b1",
   "metadata": {},
   "outputs": [
    {
     "name": "stdout",
     "output_type": "stream",
     "text": [
      "abcd\n",
      "<class 'str'>\n",
      "[1, 2, 3]\n",
      "<class 'list'>\n"
     ]
    }
   ],
   "source": [
    "#List and string both are used to store value /data.\n",
    "#Both are sequence.\n",
    "#A list is a sequential collection of Python data values, where each value is identified by an index.\n",
    "#The values that make up a list are called its elements.\n",
    "#Lists are similar to strings, which are ordered collections of characters, \n",
    "#except that the elements of a list can have any type and for any one list, the items can be of different types.\n",
    "s=\"abcd\"\n",
    "print(s)\n",
    "print(type(s))\n",
    "l=[1,2,3]\n",
    "print(l)\n",
    "print(type(l))"
   ]
  },
  {
   "cell_type": "markdown",
   "id": "130cb155",
   "metadata": {},
   "source": [
    "#13. What's the difference between tuples and lists?"
   ]
  },
  {
   "cell_type": "raw",
   "id": "5e8ffd63",
   "metadata": {},
   "source": [
    "Ans. The difference between tuples and lists are as follows:\n",
    "          1.List is mutable where as tuple is immutable.\n",
    "          2.List iteration is slower and is time consuming where as tuple iteration is faster.\n",
    "          3.List is useful for insertion and deletion operations where as tuple is useful for readonly operations \n",
    "            like accessing elements.\n",
    "          4.List consumes more memory where as tuples consumes less memory.\n",
    "          5.List provides many in-built methods where as tuples have less in-built methods.\n",
    "          6.List operations are more error prone where as tuples operations are safe."
   ]
  },
  {
   "cell_type": "markdown",
   "id": "29d4f925",
   "metadata": {},
   "source": [
    "#14. How do you type a tuple value that only contains the integer 42?"
   ]
  },
  {
   "cell_type": "code",
   "execution_count": 50,
   "id": "1bf05e7a",
   "metadata": {
    "scrolled": true
   },
   "outputs": [
    {
     "name": "stdout",
     "output_type": "stream",
     "text": [
      "<class 'int'>\n",
      "<class 'tuple'>\n"
     ]
    }
   ],
   "source": [
    "t=(42)\n",
    "print(type(t))\n",
    "t1=(42,)\n",
    "print(type(t1))"
   ]
  },
  {
   "cell_type": "markdown",
   "id": "6f5a0375",
   "metadata": {},
   "source": [
    "#15. How do you get a list value's tuple form? How do you get a tuple value's list form?"
   ]
  },
  {
   "cell_type": "markdown",
   "id": "2d8c5f7b",
   "metadata": {},
   "source": [
    "Ans. The tuple() and list() respectively are used to convert a list to tuple and vice versa.\n",
    "     value = (10, 20, 30, 40, 50)\n",
    "     my_tuple = list(value)\n",
    "     print(my_tuple)"
   ]
  },
  {
   "cell_type": "markdown",
   "id": "08db2cdb",
   "metadata": {},
   "source": [
    "#16. Variables that \"contains\" list values are not necessarily lists themselves. Instead, what do they contain?"
   ]
  },
  {
   "cell_type": "markdown",
   "id": "fe0bc5ec",
   "metadata": {},
   "source": [
    "Ans. They contain references to list values."
   ]
  },
  {
   "cell_type": "markdown",
   "id": "41ac0e60",
   "metadata": {},
   "source": [
    "#17. How do you distinguish between copy.copy() and copy.deepcopy()?"
   ]
  },
  {
   "cell_type": "markdown",
   "id": "0a2f8d70",
   "metadata": {},
   "source": [
    "Ans.The copy () method returns a shallow copy and Deep copy is a process in which the copying process occurs recursively. It means first constructing a new collection object and then recursively populating it with copies of the child objects found in the original."
   ]
  },
  {
   "cell_type": "code",
   "execution_count": null,
   "id": "75ff03d7",
   "metadata": {},
   "outputs": [],
   "source": []
  }
 ],
 "metadata": {
  "kernelspec": {
   "display_name": "Python 3 (ipykernel)",
   "language": "python",
   "name": "python3"
  },
  "language_info": {
   "codemirror_mode": {
    "name": "ipython",
    "version": 3
   },
   "file_extension": ".py",
   "mimetype": "text/x-python",
   "name": "python",
   "nbconvert_exporter": "python",
   "pygments_lexer": "ipython3",
   "version": "3.9.12"
  }
 },
 "nbformat": 4,
 "nbformat_minor": 5
}

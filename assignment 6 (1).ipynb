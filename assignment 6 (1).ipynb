{
 "cells": [
  {
   "cell_type": "markdown",
   "id": "821977b3",
   "metadata": {},
   "source": [
    "# Assignment 6"
   ]
  },
  {
   "cell_type": "markdown",
   "id": "438b40e3",
   "metadata": {},
   "source": [
    "#1. What are escape characters, and how do you use them?"
   ]
  },
  {
   "cell_type": "markdown",
   "id": "42f2cc8f",
   "metadata": {},
   "source": [
    "Ans.Escape characters are used when we want to insert a character that is not accepted by python, \n",
    "    like backslash n(“\\n”), backslash(“\\”), single quote(“‘”), etc."
   ]
  },
  {
   "cell_type": "code",
   "execution_count": 45,
   "id": "759e6621",
   "metadata": {},
   "outputs": [
    {
     "ename": "SyntaxError",
     "evalue": "invalid syntax (2711775236.py, line 1)",
     "output_type": "error",
     "traceback": [
      "\u001b[1;36m  Input \u001b[1;32mIn [45]\u001b[1;36m\u001b[0m\n\u001b[1;33m    print(\"John replied \"I'm good.\"\")\u001b[0m\n\u001b[1;37m                         ^\u001b[0m\n\u001b[1;31mSyntaxError\u001b[0m\u001b[1;31m:\u001b[0m invalid syntax\n"
     ]
    }
   ],
   "source": [
    "print(\"John replied \"I'm good.\"\")"
   ]
  },
  {
   "cell_type": "code",
   "execution_count": 46,
   "id": "825be4d7",
   "metadata": {},
   "outputs": [
    {
     "name": "stdout",
     "output_type": "stream",
     "text": [
      "John replied \"I'm good.\"\n"
     ]
    }
   ],
   "source": [
    "# here we have used escape character'\\'\n",
    "print(\"John replied \\\"I'm good.\\\"\")"
   ]
  },
  {
   "cell_type": "markdown",
   "id": "e98a3842",
   "metadata": {},
   "source": [
    "#2. What do the escape characters n and t stand for?"
   ]
  },
  {
   "cell_type": "markdown",
   "id": "048004cc",
   "metadata": {},
   "source": [
    "Ans. The escape character n stand for newline and t stands for tab."
   ]
  },
  {
   "cell_type": "code",
   "execution_count": 47,
   "id": "11d94983",
   "metadata": {},
   "outputs": [
    {
     "name": "stdout",
     "output_type": "stream",
     "text": [
      "Hello\n",
      "World!\n"
     ]
    }
   ],
   "source": [
    "# \\n is used for new line\n",
    "txt = \"Hello\\nWorld!\"\n",
    "print(txt) "
   ]
  },
  {
   "cell_type": "code",
   "execution_count": 48,
   "id": "20121b82",
   "metadata": {},
   "outputs": [
    {
     "name": "stdout",
     "output_type": "stream",
     "text": [
      "Hello\tWorld!\n"
     ]
    }
   ],
   "source": [
    "# \\t is used for tab\n",
    "txt = \"Hello\\tWorld!\"\n",
    "print(txt) "
   ]
  },
  {
   "cell_type": "markdown",
   "id": "1b6fc6e4",
   "metadata": {},
   "source": [
    "#3. What is the way to include backslash characters in a string?"
   ]
  },
  {
   "cell_type": "markdown",
   "id": "9bb6f980",
   "metadata": {},
   "source": [
    "Ans. Python backslash character (\\) is a special character used as a part of special sequence such as \\t and \\n."
   ]
  },
  {
   "cell_type": "code",
   "execution_count": 49,
   "id": "359903d2",
   "metadata": {},
   "outputs": [
    {
     "name": "stdout",
     "output_type": "stream",
     "text": [
      " Hello, \n",
      " World \n"
     ]
    }
   ],
   "source": [
    "print(' Hello, \\n World ')"
   ]
  },
  {
   "cell_type": "markdown",
   "id": "682fa73c",
   "metadata": {},
   "source": [
    "#4. The string \"Howl's Moving Castle\" is a correct value. Why isn't the single quote character in the\n",
    "    word Howl's not escaped a problem?"
   ]
  },
  {
   "cell_type": "markdown",
   "id": "fe046b6c",
   "metadata": {},
   "source": [
    "Ans. The single quote in Howl's is fine because double quotes is used to  mark the beginning and end of the string. \n",
    "Anything that is written inside quotation marks is treated as string data type in python."
   ]
  },
  {
   "cell_type": "code",
   "execution_count": 50,
   "id": "081eaf42",
   "metadata": {},
   "outputs": [
    {
     "name": "stdout",
     "output_type": "stream",
     "text": [
      "Howl's Moving Castle\n"
     ]
    }
   ],
   "source": [
    "print(\"Howl's Moving Castle\")"
   ]
  },
  {
   "cell_type": "markdown",
   "id": "c9f89b48",
   "metadata": {},
   "source": [
    "#5. How do you write a string of newlines if you don't want to use the n character?"
   ]
  },
  {
   "cell_type": "code",
   "execution_count": 51,
   "id": "d87d7c27",
   "metadata": {},
   "outputs": [
    {
     "name": "stdout",
     "output_type": "stream",
     "text": [
      "Hello World\n"
     ]
    }
   ],
   "source": [
    "#use the named argument \"end\" to explicitly specify the end of line string\n",
    "print(\"Hello \",end ='')\n",
    "print(\"World\")"
   ]
  },
  {
   "cell_type": "markdown",
   "id": "a6265142",
   "metadata": {},
   "source": [
    "#6. What are the values of the given expressions?\n",
    "'Hello, world!'[1]\n",
    "'Hello, world!'[0:5]\n",
    "'Hello, world!'[:5]\n",
    "'Hello, world!'[3:]"
   ]
  },
  {
   "cell_type": "code",
   "execution_count": 52,
   "id": "a5fd24bd",
   "metadata": {},
   "outputs": [
    {
     "data": {
      "text/plain": [
       "'e'"
      ]
     },
     "execution_count": 52,
     "metadata": {},
     "output_type": "execute_result"
    }
   ],
   "source": [
    "'Hello, world!'[1]"
   ]
  },
  {
   "cell_type": "code",
   "execution_count": 53,
   "id": "88b8116f",
   "metadata": {},
   "outputs": [
    {
     "data": {
      "text/plain": [
       "'Hello'"
      ]
     },
     "execution_count": 53,
     "metadata": {},
     "output_type": "execute_result"
    }
   ],
   "source": [
    "'Hello, world!'[0:5]"
   ]
  },
  {
   "cell_type": "code",
   "execution_count": 54,
   "id": "1c5c521a",
   "metadata": {},
   "outputs": [
    {
     "data": {
      "text/plain": [
       "'Hello'"
      ]
     },
     "execution_count": 54,
     "metadata": {},
     "output_type": "execute_result"
    }
   ],
   "source": [
    "'Hello, world!'[:5]"
   ]
  },
  {
   "cell_type": "code",
   "execution_count": 55,
   "id": "bfdcd578",
   "metadata": {},
   "outputs": [
    {
     "data": {
      "text/plain": [
       "'lo, world!'"
      ]
     },
     "execution_count": 55,
     "metadata": {},
     "output_type": "execute_result"
    }
   ],
   "source": [
    "'Hello, world!'[3:]"
   ]
  },
  {
   "cell_type": "markdown",
   "id": "6ce2ba8d",
   "metadata": {},
   "source": [
    "#7. What are the values of the following expressions?\n",
    "'Hello'.upper()\n",
    "'Hello'.upper().isupper()\n",
    "'Hello'.upper().lower()"
   ]
  },
  {
   "cell_type": "code",
   "execution_count": 56,
   "id": "281924e3",
   "metadata": {},
   "outputs": [
    {
     "data": {
      "text/plain": [
       "'HELLO'"
      ]
     },
     "execution_count": 56,
     "metadata": {},
     "output_type": "execute_result"
    }
   ],
   "source": [
    "'Hello'.upper()"
   ]
  },
  {
   "cell_type": "code",
   "execution_count": 57,
   "id": "2efdc8fd",
   "metadata": {},
   "outputs": [
    {
     "data": {
      "text/plain": [
       "True"
      ]
     },
     "execution_count": 57,
     "metadata": {},
     "output_type": "execute_result"
    }
   ],
   "source": [
    "'Hello'.upper().isupper()"
   ]
  },
  {
   "cell_type": "code",
   "execution_count": 58,
   "id": "780e932a",
   "metadata": {},
   "outputs": [
    {
     "data": {
      "text/plain": [
       "'hello'"
      ]
     },
     "execution_count": 58,
     "metadata": {},
     "output_type": "execute_result"
    }
   ],
   "source": [
    "'Hello'.upper().lower()"
   ]
  },
  {
   "cell_type": "markdown",
   "id": "5ba6924f",
   "metadata": {},
   "source": [
    "#8. What are the values of the following expressions?\n",
    "'Remember, remember, the fifth of July.'.split()\n",
    "'-'.join('There can only one.'.split())"
   ]
  },
  {
   "cell_type": "code",
   "execution_count": 59,
   "id": "e23a2fec",
   "metadata": {},
   "outputs": [
    {
     "data": {
      "text/plain": [
       "'There-can-only-one.'"
      ]
     },
     "execution_count": 59,
     "metadata": {},
     "output_type": "execute_result"
    }
   ],
   "source": [
    "'Remember, remember, the fifth of July.'.split()\n",
    "'-'.join('There can only one.'.split())"
   ]
  },
  {
   "cell_type": "markdown",
   "id": "b4462cfd",
   "metadata": {},
   "source": [
    "#9. What are the methods for right-justifying, left-justifying, and centering a string?"
   ]
  },
  {
   "cell_type": "markdown",
   "id": "defc771f",
   "metadata": {},
   "source": [
    "Ans. right-justifying- rjust\n",
    "     left-justifying- ljust,\n",
    "     centering a string - centre"
   ]
  },
  {
   "cell_type": "code",
   "execution_count": 60,
   "id": "4eb2359d",
   "metadata": {},
   "outputs": [
    {
     "data": {
      "text/plain": [
       "'Hello World*****************************'"
      ]
     },
     "execution_count": 60,
     "metadata": {},
     "output_type": "execute_result"
    }
   ],
   "source": [
    "str=\"Hello World\"\n",
    "str.ljust(40,'*')"
   ]
  },
  {
   "cell_type": "code",
   "execution_count": 61,
   "id": "461495fd",
   "metadata": {},
   "outputs": [
    {
     "data": {
      "text/plain": [
       "'-----------------------------Hello World'"
      ]
     },
     "execution_count": 61,
     "metadata": {},
     "output_type": "execute_result"
    }
   ],
   "source": [
    "str.rjust(40, '-')"
   ]
  },
  {
   "cell_type": "code",
   "execution_count": 62,
   "id": "8760d3bf",
   "metadata": {},
   "outputs": [
    {
     "data": {
      "text/plain": [
       "'&&&&&&&&&&&&&&Hello World&&&&&&&&&&&&&&&'"
      ]
     },
     "execution_count": 62,
     "metadata": {},
     "output_type": "execute_result"
    }
   ],
   "source": [
    "str.center(40,'&')"
   ]
  },
  {
   "cell_type": "markdown",
   "id": "d7b02130",
   "metadata": {},
   "source": [
    "#10. What is the best way to remove whitespace characters from the start or end?"
   ]
  },
  {
   "cell_type": "markdown",
   "id": "77fba77c",
   "metadata": {},
   "source": [
    "Python strings functions like lstrip(), rstrip(), and strip() is used to trim whitespaces based on the use case. \n",
    "\n",
    "The lstrip() function to trim leading whitespace characters.\n",
    "The rstrip() function to trim trailing whitespace characters.\n",
    "The strip() function to trim leading and the trailing whitespace characters."
   ]
  },
  {
   "cell_type": "code",
   "execution_count": 63,
   "id": "b86618e6",
   "metadata": {},
   "outputs": [
    {
     "name": "stdout",
     "output_type": "stream",
     "text": [
      "         hello world\n"
     ]
    }
   ],
   "source": [
    "s=\"         hello world\"\n",
    "print(s)"
   ]
  },
  {
   "cell_type": "code",
   "execution_count": 64,
   "id": "724c8e9b",
   "metadata": {},
   "outputs": [
    {
     "name": "stdout",
     "output_type": "stream",
     "text": [
      "hello world\n"
     ]
    }
   ],
   "source": [
    "print(s.lstrip())"
   ]
  },
  {
   "cell_type": "code",
   "execution_count": 65,
   "id": "c7288bea",
   "metadata": {},
   "outputs": [
    {
     "name": "stdout",
     "output_type": "stream",
     "text": [
      "John Doe\n",
      "\t  \n"
     ]
    }
   ],
   "source": [
    "s1 = \"John Doe\\n\\t  \"\n",
    "print(s1)"
   ]
  },
  {
   "cell_type": "code",
   "execution_count": 66,
   "id": "d9483986",
   "metadata": {},
   "outputs": [
    {
     "name": "stdout",
     "output_type": "stream",
     "text": [
      "John Doe\n"
     ]
    }
   ],
   "source": [
    "print(s1.rstrip())"
   ]
  },
  {
   "cell_type": "code",
   "execution_count": null,
   "id": "95826d26",
   "metadata": {},
   "outputs": [],
   "source": []
  }
 ],
 "metadata": {
  "kernelspec": {
   "display_name": "Python 3 (ipykernel)",
   "language": "python",
   "name": "python3"
  },
  "language_info": {
   "codemirror_mode": {
    "name": "ipython",
    "version": 3
   },
   "file_extension": ".py",
   "mimetype": "text/x-python",
   "name": "python",
   "nbconvert_exporter": "python",
   "pygments_lexer": "ipython3",
   "version": "3.9.12"
  }
 },
 "nbformat": 4,
 "nbformat_minor": 5
}

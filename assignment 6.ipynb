{
 "cells": [
  {
   "cell_type": "markdown",
   "id": "ca1ae32d",
   "metadata": {},
   "source": [
    "# Assignment 6"
   ]
  },
  {
   "cell_type": "markdown",
   "id": "ad8ee507",
   "metadata": {},
   "source": [
    "#1. What are escape characters, and how do you use them?"
   ]
  },
  {
   "cell_type": "markdown",
   "id": "c2903730",
   "metadata": {},
   "source": [
    "Ans.Escape characters are used when we want to insert a character that is not accepted by python, \n",
    "    like backslash n(“\\n”), backslash(“\\”), single quote(“‘”), etc."
   ]
  },
  {
   "cell_type": "code",
   "execution_count": 1,
   "id": "7f212df4",
   "metadata": {},
   "outputs": [
    {
     "ename": "SyntaxError",
     "evalue": "invalid syntax (2711775236.py, line 1)",
     "output_type": "error",
     "traceback": [
      "\u001b[1;36m  Input \u001b[1;32mIn [1]\u001b[1;36m\u001b[0m\n\u001b[1;33m    print(\"John replied \"I'm good.\"\")\u001b[0m\n\u001b[1;37m                         ^\u001b[0m\n\u001b[1;31mSyntaxError\u001b[0m\u001b[1;31m:\u001b[0m invalid syntax\n"
     ]
    }
   ],
   "source": [
    "print(\"John replied \"I'm good.\"\")"
   ]
  },
  {
   "cell_type": "code",
   "execution_count": 2,
   "id": "b9f0c62e",
   "metadata": {},
   "outputs": [
    {
     "name": "stdout",
     "output_type": "stream",
     "text": [
      "John replied \"I'm good.\"\n"
     ]
    }
   ],
   "source": [
    "# here we have used escape character'\\'\n",
    "print(\"John replied \\\"I'm good.\\\"\")"
   ]
  },
  {
   "cell_type": "markdown",
   "id": "53c38463",
   "metadata": {},
   "source": [
    "#2. What do the escape characters n and t stand for?"
   ]
  },
  {
   "cell_type": "markdown",
   "id": "220532b6",
   "metadata": {},
   "source": [
    "Ans. The escape character n stand for newline and t stands for tab."
   ]
  },
  {
   "cell_type": "code",
   "execution_count": 3,
   "id": "c024fb30",
   "metadata": {},
   "outputs": [
    {
     "name": "stdout",
     "output_type": "stream",
     "text": [
      "Hello\n",
      "World!\n"
     ]
    }
   ],
   "source": [
    "# \\n is fued for new line\n",
    "txt = \"Hello\\nWorld!\"\n",
    "print(txt) "
   ]
  },
  {
   "cell_type": "code",
   "execution_count": 4,
   "id": "212e8c83",
   "metadata": {},
   "outputs": [
    {
     "name": "stdout",
     "output_type": "stream",
     "text": [
      "Hello\tWorld!\n"
     ]
    }
   ],
   "source": [
    "# \\t is used for tab\n",
    "txt = \"Hello\\tWorld!\"\n",
    "print(txt) "
   ]
  },
  {
   "cell_type": "markdown",
   "id": "8d2eea42",
   "metadata": {},
   "source": [
    "#3. What is the way to include backslash characters in a string?"
   ]
  },
  {
   "cell_type": "markdown",
   "id": "09de80c3",
   "metadata": {},
   "source": [
    "Ans. Python backslash character (\\) is a special character used as a part of special sequence such as \\t and \\n."
   ]
  },
  {
   "cell_type": "code",
   "execution_count": 8,
   "id": "295392e9",
   "metadata": {},
   "outputs": [
    {
     "name": "stdout",
     "output_type": "stream",
     "text": [
      " Hello, \n",
      " World \n"
     ]
    }
   ],
   "source": [
    "print(' Hello, \\n World ')"
   ]
  },
  {
   "cell_type": "markdown",
   "id": "165a1550",
   "metadata": {},
   "source": [
    "#4. The string \"Howl's Moving Castle\" is a correct value. Why isn't the single quote character in the\n",
    "    word Howl's not escaped a problem?"
   ]
  },
  {
   "cell_type": "markdown",
   "id": "5587620f",
   "metadata": {},
   "source": [
    "Ans. The single quote in Howl's is fine because double quotes is used to  mark the beginning and end of the string. \n",
    "Anything that is written inside quotation marks is treated as string data type in python."
   ]
  },
  {
   "cell_type": "code",
   "execution_count": 9,
   "id": "f08eb7f2",
   "metadata": {},
   "outputs": [
    {
     "name": "stdout",
     "output_type": "stream",
     "text": [
      "Howl's Moving Castle\n"
     ]
    }
   ],
   "source": [
    "print(\"Howl's Moving Castle\")"
   ]
  },
  {
   "cell_type": "markdown",
   "id": "3741bb46",
   "metadata": {},
   "source": [
    "#5. How do you write a string of newlines if you don't want to use the n character?"
   ]
  },
  {
   "cell_type": "code",
   "execution_count": 18,
   "id": "eb214a62",
   "metadata": {},
   "outputs": [
    {
     "name": "stdout",
     "output_type": "stream",
     "text": [
      "Hello World\n",
      "Hello World!My name is Karim\n"
     ]
    }
   ],
   "source": [
    "#use the named argument \"end\" to explicitly specify the end of line string\n",
    "print(\"Hello \",end ='')\n",
    "print(\"World\")"
   ]
  },
  {
   "cell_type": "markdown",
   "id": "2ebae8c8",
   "metadata": {},
   "source": [
    "#6. What are the values of the given expressions?\n",
    "'Hello, world!'[1]\n",
    "'Hello, world!'[0:5]\n",
    "'Hello, world!'[:5]\n",
    "'Hello, world!'[3:]"
   ]
  },
  {
   "cell_type": "code",
   "execution_count": 20,
   "id": "66be8203",
   "metadata": {},
   "outputs": [
    {
     "data": {
      "text/plain": [
       "'e'"
      ]
     },
     "execution_count": 20,
     "metadata": {},
     "output_type": "execute_result"
    }
   ],
   "source": [
    "'Hello, world!'[1]"
   ]
  },
  {
   "cell_type": "code",
   "execution_count": 22,
   "id": "611c6293",
   "metadata": {},
   "outputs": [
    {
     "data": {
      "text/plain": [
       "'Hello'"
      ]
     },
     "execution_count": 22,
     "metadata": {},
     "output_type": "execute_result"
    }
   ],
   "source": [
    "'Hello, world!'[0:5]"
   ]
  },
  {
   "cell_type": "code",
   "execution_count": 23,
   "id": "33e89fcb",
   "metadata": {},
   "outputs": [
    {
     "data": {
      "text/plain": [
       "'Hello'"
      ]
     },
     "execution_count": 23,
     "metadata": {},
     "output_type": "execute_result"
    }
   ],
   "source": [
    "'Hello, world!'[:5]"
   ]
  },
  {
   "cell_type": "code",
   "execution_count": 24,
   "id": "88db68e2",
   "metadata": {},
   "outputs": [
    {
     "data": {
      "text/plain": [
       "'lo, world!'"
      ]
     },
     "execution_count": 24,
     "metadata": {},
     "output_type": "execute_result"
    }
   ],
   "source": [
    "'Hello, world!'[3:]"
   ]
  },
  {
   "cell_type": "markdown",
   "id": "94a357a5",
   "metadata": {},
   "source": [
    "#7. What are the values of the following expressions?\n",
    "'Hello'.upper()\n",
    "'Hello'.upper().isupper()\n",
    "'Hello'.upper().lower()"
   ]
  },
  {
   "cell_type": "code",
   "execution_count": 25,
   "id": "3021396a",
   "metadata": {},
   "outputs": [
    {
     "data": {
      "text/plain": [
       "'HELLO'"
      ]
     },
     "execution_count": 25,
     "metadata": {},
     "output_type": "execute_result"
    }
   ],
   "source": [
    "'Hello'.upper()"
   ]
  },
  {
   "cell_type": "code",
   "execution_count": 27,
   "id": "fa2b0fa9",
   "metadata": {},
   "outputs": [
    {
     "data": {
      "text/plain": [
       "True"
      ]
     },
     "execution_count": 27,
     "metadata": {},
     "output_type": "execute_result"
    }
   ],
   "source": [
    "'Hello'.upper().isupper()"
   ]
  },
  {
   "cell_type": "code",
   "execution_count": 28,
   "id": "46f91040",
   "metadata": {},
   "outputs": [
    {
     "data": {
      "text/plain": [
       "'hello'"
      ]
     },
     "execution_count": 28,
     "metadata": {},
     "output_type": "execute_result"
    }
   ],
   "source": [
    "'Hello'.upper().lower()"
   ]
  },
  {
   "cell_type": "markdown",
   "id": "282d2abf",
   "metadata": {},
   "source": [
    "#8. What are the values of the following expressions?\n",
    "'Remember, remember, the fifth of July.'.split()\n",
    "'-'.join('There can only one.'.split())"
   ]
  },
  {
   "cell_type": "code",
   "execution_count": 29,
   "id": "bead87b7",
   "metadata": {},
   "outputs": [
    {
     "data": {
      "text/plain": [
       "'There-can-only-one.'"
      ]
     },
     "execution_count": 29,
     "metadata": {},
     "output_type": "execute_result"
    }
   ],
   "source": [
    "'Remember, remember, the fifth of July.'.split()\n",
    "'-'.join('There can only one.'.split())"
   ]
  },
  {
   "cell_type": "markdown",
   "id": "86b337d8",
   "metadata": {},
   "source": [
    "#9. What are the methods for right-justifying, left-justifying, and centering a string?"
   ]
  },
  {
   "cell_type": "markdown",
   "id": "4fee211a",
   "metadata": {},
   "source": [
    "Ans. right-justifying- rjust\n",
    "     left-justifying- ljust,\n",
    "     centering a string - centre"
   ]
  },
  {
   "cell_type": "code",
   "execution_count": 32,
   "id": "4074b902",
   "metadata": {},
   "outputs": [
    {
     "data": {
      "text/plain": [
       "'**************Hello World***************'"
      ]
     },
     "execution_count": 32,
     "metadata": {},
     "output_type": "execute_result"
    }
   ],
   "source": [
    "str=\"Hello World\"\n",
    "str.ljust(40,'*')"
   ]
  },
  {
   "cell_type": "code",
   "execution_count": 33,
   "id": "b4294494",
   "metadata": {},
   "outputs": [
    {
     "data": {
      "text/plain": [
       "'-----------------------------Hello World'"
      ]
     },
     "execution_count": 33,
     "metadata": {},
     "output_type": "execute_result"
    }
   ],
   "source": [
    "str.rjust(40, '-')"
   ]
  },
  {
   "cell_type": "code",
   "execution_count": 35,
   "id": "597c4e74",
   "metadata": {},
   "outputs": [
    {
     "data": {
      "text/plain": [
       "'&&&&&&&&&&&&&&Hello World&&&&&&&&&&&&&&&'"
      ]
     },
     "execution_count": 35,
     "metadata": {},
     "output_type": "execute_result"
    }
   ],
   "source": [
    "str.center(40,'&')"
   ]
  },
  {
   "cell_type": "markdown",
   "id": "f1fc775b",
   "metadata": {},
   "source": [
    "#10. What is the best way to remove whitespace characters from the start or end?"
   ]
  },
  {
   "cell_type": "markdown",
   "id": "af0e32d3",
   "metadata": {},
   "source": [
    "Python strings functions like lstrip(), rstrip(), and strip() is used to trim whitespaces based on the use case. \n",
    "\n",
    "The lstrip() function to trim leading whitespace characters.\n",
    "The rstrip() function to trim trailing whitespace characters.\n",
    "The strip() function to trim leading and the trailing whitespace characters."
   ]
  },
  {
   "cell_type": "code",
   "execution_count": 39,
   "id": "b18208e3",
   "metadata": {},
   "outputs": [
    {
     "name": "stdout",
     "output_type": "stream",
     "text": [
      "         hello world\n"
     ]
    }
   ],
   "source": [
    "s=\"         hello world\"\n",
    "print(s)"
   ]
  },
  {
   "cell_type": "code",
   "execution_count": 40,
   "id": "6f0bac7e",
   "metadata": {},
   "outputs": [
    {
     "name": "stdout",
     "output_type": "stream",
     "text": [
      "hello world\n"
     ]
    }
   ],
   "source": [
    "print(s.lstrip())"
   ]
  },
  {
   "cell_type": "code",
   "execution_count": 43,
   "id": "c2336d67",
   "metadata": {},
   "outputs": [
    {
     "name": "stdout",
     "output_type": "stream",
     "text": [
      "John Doe\n",
      "\t  \n"
     ]
    }
   ],
   "source": [
    "s1 = \"John Doe\\n\\t  \"\n",
    "print(s1)"
   ]
  },
  {
   "cell_type": "code",
   "execution_count": 44,
   "id": "c72ec2fc",
   "metadata": {},
   "outputs": [
    {
     "name": "stdout",
     "output_type": "stream",
     "text": [
      "John Doe\n"
     ]
    }
   ],
   "source": [
    "print(s1.rstrip())"
   ]
  },
  {
   "cell_type": "code",
   "execution_count": null,
   "id": "2a5b4f7b",
   "metadata": {},
   "outputs": [],
   "source": []
  }
 ],
 "metadata": {
  "kernelspec": {
   "display_name": "Python 3 (ipykernel)",
   "language": "python",
   "name": "python3"
  },
  "language_info": {
   "codemirror_mode": {
    "name": "ipython",
    "version": 3
   },
   "file_extension": ".py",
   "mimetype": "text/x-python",
   "name": "python",
   "nbconvert_exporter": "python",
   "pygments_lexer": "ipython3",
   "version": "3.9.12"
  }
 },
 "nbformat": 4,
 "nbformat_minor": 5
}

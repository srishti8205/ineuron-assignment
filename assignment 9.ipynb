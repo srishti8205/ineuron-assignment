{
 "cells": [
  {
   "cell_type": "markdown",
   "id": "77d1a83a",
   "metadata": {},
   "source": [
    "# Assignment 9"
   ]
  },
  {
   "cell_type": "markdown",
   "id": "8f74990f",
   "metadata": {},
   "source": [
    "#1. To what does a relative path refer?"
   ]
  },
  {
   "cell_type": "markdown",
   "id": "1b95af6c",
   "metadata": {},
   "source": [
    "Ans. A relative path refers to a location that is relative to a current directory. Relative paths make use of two \n",
    "     special symbols, a dot (.) and a double-dot (..), which translate into the current directory and the parent directory.\n",
    "     Double dots are used for moving up in the hierarchy. A single dot represents the current directory itself."
   ]
  },
  {
   "cell_type": "code",
   "execution_count": 1,
   "id": "d96aacf5",
   "metadata": {},
   "outputs": [
    {
     "data": {
      "text/plain": [
       "'C:\\\\Users\\\\srish'"
      ]
     },
     "execution_count": 1,
     "metadata": {},
     "output_type": "execute_result"
    }
   ],
   "source": [
    "pwd"
   ]
  },
  {
   "cell_type": "markdown",
   "id": "578d30df",
   "metadata": {},
   "source": [
    "#2. What does an absolute path start with your operating system?"
   ]
  },
  {
   "cell_type": "markdown",
   "id": "0c307e87",
   "metadata": {},
   "source": [
    "Ans. An absolute path refers to the complete details needed to locate a file or folder, \n",
    "     starting from the root element and ending with the other subdirectories. \n",
    "     Absolute paths are used in websites and operating systems for locating files and folders.\n",
    "     An absolute path is also known as an absolute pathname or full path."
   ]
  },
  {
   "cell_type": "markdown",
   "id": "282460ba",
   "metadata": {},
   "source": [
    "#3. What do the functions os.getcwd() and os.chdir() do?"
   ]
  },
  {
   "cell_type": "code",
   "execution_count": 9,
   "id": "d3d35690",
   "metadata": {},
   "outputs": [
    {
     "name": "stdout",
     "output_type": "stream",
     "text": [
      "Current working directory: C:\\Users\\srish\n"
     ]
    }
   ],
   "source": [
    "# os.getcwd() method tells us the location of current working directory (CWD).\n",
    "\n",
    "import os \n",
    "cwd = os.getcwd()   \n",
    "print(\"Current working directory:\", cwd) \n"
   ]
  },
  {
   "cell_type": "code",
   "execution_count": 15,
   "id": "2f1da47a",
   "metadata": {},
   "outputs": [
    {
     "name": "stdout",
     "output_type": "stream",
     "text": [
      "Directory changed\n"
     ]
    }
   ],
   "source": [
    "#os.chdir() method in Python used to change the current working directory to specified path. \n",
    "#It takes only a single argument as new directory path.\n",
    "\n",
    "import os\n",
    "os.chdir(r\"C:\\Users\")\n",
    "print(\"Directory changed\")"
   ]
  },
  {
   "cell_type": "code",
   "execution_count": 16,
   "id": "281e0fa2",
   "metadata": {},
   "outputs": [
    {
     "data": {
      "text/plain": [
       "'C:\\\\Users'"
      ]
     },
     "execution_count": 16,
     "metadata": {},
     "output_type": "execute_result"
    }
   ],
   "source": [
    "pwd"
   ]
  },
  {
   "cell_type": "code",
   "execution_count": 25,
   "id": "189bc093",
   "metadata": {},
   "outputs": [
    {
     "name": "stdout",
     "output_type": "stream",
     "text": [
      "Directory changed\n"
     ]
    }
   ],
   "source": [
    "os.chdir(r\"C:\\Users\\srish\")\n",
    "print(\"Directory changed\")"
   ]
  },
  {
   "cell_type": "markdown",
   "id": "9a845c63",
   "metadata": {},
   "source": [
    "#4. What are the . and .. folders?"
   ]
  },
  {
   "cell_type": "markdown",
   "id": "271094d9",
   "metadata": {},
   "source": [
    "Ans. The . is the current directory, while .. signifies the parent directory."
   ]
  },
  {
   "cell_type": "markdown",
   "id": "bf19e68e",
   "metadata": {},
   "source": [
    "#5. In C:\\bacon\\eggs\\spam.txt, which part is the dir name, and which part is the base name?"
   ]
  },
  {
   "cell_type": "markdown",
   "id": "f628f8ce",
   "metadata": {},
   "source": [
    "Ans.  For C:\\bacon\\eggs\\spam.txt\n",
    "      The dir name is C:\\\\bacon\\\\eggs\n",
    "      The Base name is spam.txt"
   ]
  },
  {
   "cell_type": "markdown",
   "id": "7d79d766",
   "metadata": {},
   "source": [
    "#6. What are the three “mode” arguments that can be passed to the open() function?"
   ]
  },
  {
   "cell_type": "markdown",
   "id": "4e85daaa",
   "metadata": {},
   "source": [
    "Ans. file_name: This parameter as the name suggests, is the name of the file that we want to open.\n",
    "     mode: This parameter is a string that is used to specify the mode in which the file is to be opened.\n",
    "           The following strings can be used to activate a specific mode:\n",
    "\n",
    "     “r”: This string is used to read(only) the file. It is passed as default if no parameter is supplied and returns an             error if no such file exists.\n",
    "     “w”: This string is used for writing on/over the file. If the file with the supplied name doesn’t exist, it creates             one for you.\n",
    "     “a”: This string is used to add(append) content to an existing file. If no such file exists, it creates one for you.\n",
    "     “x”: This string is used to create a specific file.\n",
    "     “b”: This string is used when the user wants to handle the file in binary mode.\n",
    "          This is generally used to handle image files.\n",
    "     “t”: This string is used to handle files in text mode. By default, the open() function uses the text mode."
   ]
  },
  {
   "cell_type": "markdown",
   "id": "137b43c5",
   "metadata": {},
   "source": [
    "#7. What happens if an existing file is opened in write mode?"
   ]
  },
  {
   "cell_type": "code",
   "execution_count": 33,
   "id": "50bd9248",
   "metadata": {},
   "outputs": [],
   "source": [
    "# it will overwrite any existing content in the file.\n",
    "f1=open(\"test22.txt\", \"r\");\n"
   ]
  },
  {
   "cell_type": "code",
   "execution_count": 34,
   "id": "0419af1d",
   "metadata": {},
   "outputs": [
    {
     "name": "stdout",
     "output_type": "stream",
     "text": [
      "pythonguides\n"
     ]
    }
   ],
   "source": [
    "print(f1.read())"
   ]
  },
  {
   "cell_type": "code",
   "execution_count": 35,
   "id": "2961158f",
   "metadata": {},
   "outputs": [],
   "source": [
    "f1.close()"
   ]
  },
  {
   "cell_type": "code",
   "execution_count": 36,
   "id": "0e4c6f93",
   "metadata": {},
   "outputs": [],
   "source": [
    "f1=open(\"test22.txt\", \"w\");"
   ]
  },
  {
   "cell_type": "code",
   "execution_count": 37,
   "id": "070bc32b",
   "metadata": {},
   "outputs": [],
   "source": [
    "f1.write('hello')\n",
    "f1.close()"
   ]
  },
  {
   "cell_type": "code",
   "execution_count": 38,
   "id": "403bfc88",
   "metadata": {},
   "outputs": [
    {
     "name": "stdout",
     "output_type": "stream",
     "text": [
      "hello\n"
     ]
    }
   ],
   "source": [
    "f1=open(\"test22.txt\", \"r\");\n",
    "print(f1.read())"
   ]
  },
  {
   "cell_type": "code",
   "execution_count": 39,
   "id": "cf4f1d26",
   "metadata": {},
   "outputs": [],
   "source": [
    "f1.close()"
   ]
  },
  {
   "cell_type": "markdown",
   "id": "a1e460c5",
   "metadata": {},
   "source": [
    "#8. How do you tell the difference between read() and readlines()?"
   ]
  },
  {
   "cell_type": "markdown",
   "id": "88741392",
   "metadata": {},
   "source": [
    "Ans. The difference between read() and readlines()is that read() reads the entire file and returns a string were as              readlines() returns a list of strings representing the lines \n",
    "     of the file."
   ]
  },
  {
   "cell_type": "code",
   "execution_count": 14,
   "id": "a70942f4",
   "metadata": {},
   "outputs": [
    {
     "name": "stdout",
     "output_type": "stream",
     "text": [
      "hello word.\n",
      "This is python programming.\n"
     ]
    }
   ],
   "source": [
    "#The read() method returns the specified number of bytes from the file. Default is -1 which means the whole file.\n",
    "f = open(\"example.txt\", \"r\")\n",
    "print(f.read())\n"
   ]
  },
  {
   "cell_type": "code",
   "execution_count": 15,
   "id": "08f2cf99",
   "metadata": {},
   "outputs": [
    {
     "name": "stdout",
     "output_type": "stream",
     "text": [
      "['hello word.\\n', 'This is python programming.']\n"
     ]
    }
   ],
   "source": [
    "#The readlines() method returns a list containing each line in the file as a list item.\n",
    "f = open(\"example.txt\", \"r\")\n",
    "print(f.readlines())"
   ]
  },
  {
   "cell_type": "markdown",
   "id": "12ec526b",
   "metadata": {},
   "source": [
    "#9. What data structure does a shelf value resemble?"
   ]
  },
  {
   "cell_type": "markdown",
   "id": "fbb8f2a7",
   "metadata": {},
   "source": [
    "Ans. The data structure resemble self value is dictionary."
   ]
  }
 ],
 "metadata": {
  "kernelspec": {
   "display_name": "Python 3 (ipykernel)",
   "language": "python",
   "name": "python3"
  },
  "language_info": {
   "codemirror_mode": {
    "name": "ipython",
    "version": 3
   },
   "file_extension": ".py",
   "mimetype": "text/x-python",
   "name": "python",
   "nbconvert_exporter": "python",
   "pygments_lexer": "ipython3",
   "version": "3.9.12"
  }
 },
 "nbformat": 4,
 "nbformat_minor": 5
}

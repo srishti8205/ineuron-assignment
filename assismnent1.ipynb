{
 "cells": [
  {
   "cell_type": "markdown",
   "id": "51def830",
   "metadata": {},
   "source": [
    "# Assignment 1\n",
    "#1. In the below elements which of them are values or an expression? eg:- values can be\n",
    "    integer or string and expressions will be mathematical operators.\n",
    "   *,'hello',-87.8,-,/,+,6\n",
    "   \n",
    "   Ans. Expression: 'hello',-87.8,6 \n",
    "        Mathematical operators: *,-,/,+ \n",
    "\n",
    "#2. What is the difference between string and variable?\n",
    "   Ans. A string is a collection of one or more character put in a single quotes, double quotes or triple quotes.\n",
    "        Variables are symbols that can be use to store data in a program. \n",
    "        A Variable is a store of information, and a String is a type of information that would store in a Variable.  \n",
    "\n",
    "#3. Describe three different data types.\n",
    " \n",
    "   Ans. Three data type are as follows:-\n",
    "      Integers – This value is represented by int class. It contains positive or negative whole numbers. for example- 5\n",
    "      Float – This value is represented by float class. It is a real number with floating point representation. \n",
    "      It is specified by a decimal point. for example- 4.5\n",
    "      Complex Numbers – Complex number is represented by complex class. It is specified as (real part) + (imaginary part)j. For       example– 2+3j\n",
    "#4. What is an expression made up of? What do all expressions do?\n",
    "   Ans. An expression is a combination of operators and operands that is interpreted to produce some other value.\n",
    "      \n"
   ]
  },
  {
   "cell_type": "code",
   "execution_count": 4,
   "id": "19b9e8b2",
   "metadata": {},
   "outputs": [
    {
     "name": "stdout",
     "output_type": "stream",
     "text": [
      "133\n"
     ]
    }
   ],
   "source": [
    "#for example\n",
    "a = 10\n",
    "b = 14\n",
    "c = 12\n",
    "  \n",
    "d = a * b - c + 5\n",
    "print(d)"
   ]
  },
  {
   "cell_type": "markdown",
   "id": "17fb2d15",
   "metadata": {},
   "source": [
    "#5. This assignment statements, like spam = 10. What is the difference between an\n",
    "   expression and a statement?"
   ]
  },
  {
   "cell_type": "markdown",
   "id": "ca5dce01",
   "metadata": {},
   "source": [
    "Ans. In python, an expression is any legal combination of symbols (like a variable, constants, and operators) representing a          value. An expression must have at least one operand (variable or constant) and have one or more operators.\n",
    "     After evaluating an expression, we get a value.\n",
    "\n",
    "     For example, x+y*z-8 is an example of an expression, where +, * are operators; x, y, and z are variables, and 8 is a            constant."
   ]
  },
  {
   "cell_type": "markdown",
   "id": "dddb8c5a",
   "metadata": {},
   "source": [
    "     A statement is an instruction that the Python interpreter can execute. We have assignment statement,\n",
    "     while statements,for statements, if statements, and import statements. \n",
    "     for example  a=5 is a assignment statement\n",
    "     "
   ]
  },
  {
   "cell_type": "markdown",
   "id": "42bc61ca",
   "metadata": {},
   "source": [
    "#6. After running the following code, what does the variable bacon contain?\n",
    "   bacon = 22\n",
    "   bacon + 1\n",
    "   Ans. "
   ]
  },
  {
   "cell_type": "code",
   "execution_count": 1,
   "id": "8d731853",
   "metadata": {},
   "outputs": [
    {
     "name": "stdout",
     "output_type": "stream",
     "text": [
      "22\n"
     ]
    }
   ],
   "source": [
    "bacon = 22\n",
    "bacon + 1 \n",
    "print(bacon)"
   ]
  },
  {
   "cell_type": "markdown",
   "id": "5369d48d",
   "metadata": {},
   "source": [
    "#7. What should the values of the following two terms be?\n",
    "    'spam'+'spamspam'\n",
    "    'spam'*3\n",
    "   Ans. "
   ]
  },
  {
   "cell_type": "code",
   "execution_count": 2,
   "id": "523d3a55",
   "metadata": {},
   "outputs": [
    {
     "data": {
      "text/plain": [
       "'spamspamspam'"
      ]
     },
     "execution_count": 2,
     "metadata": {},
     "output_type": "execute_result"
    }
   ],
   "source": [
    "'spam'+'spamspam'\n",
    "'spam'*3"
   ]
  },
  {
   "cell_type": "markdown",
   "id": "66446a64",
   "metadata": {},
   "source": [
    "#8. Why is eggs a valid variable name while 100 is invalid?"
   ]
  },
  {
   "cell_type": "markdown",
   "id": "be1271da",
   "metadata": {},
   "source": [
    "    Ans. A variable can have a short name (like x and y) or a more descriptive name (age, carname, total_volume).\n",
    "         Rules for python variable.     \n",
    "         A variable name must start with a letter or the underscore character\n",
    "         A variable name cannot start with a number\n",
    "         A variable name can only contain alpha-numeric characters and underscores (A-z, 0-9, and _ )\n",
    "         Variable names are case-sensitive (age, Age and AGE are three different variables)"
   ]
  },
  {
   "cell_type": "code",
   "execution_count": 7,
   "id": "760f0d4c",
   "metadata": {},
   "outputs": [
    {
     "name": "stdout",
     "output_type": "stream",
     "text": [
      "20\n"
     ]
    }
   ],
   "source": [
    "eggs=20 \n",
    "print(eggs)"
   ]
  },
  {
   "cell_type": "code",
   "execution_count": 8,
   "id": "1c8e3fba",
   "metadata": {},
   "outputs": [
    {
     "ename": "SyntaxError",
     "evalue": "cannot assign to literal (1162644884.py, line 1)",
     "output_type": "error",
     "traceback": [
      "\u001b[1;36m  Input \u001b[1;32mIn [8]\u001b[1;36m\u001b[0m\n\u001b[1;33m    100=20\u001b[0m\n\u001b[1;37m    ^\u001b[0m\n\u001b[1;31mSyntaxError\u001b[0m\u001b[1;31m:\u001b[0m cannot assign to literal\n"
     ]
    }
   ],
   "source": [
    "# number cannot be variable:\n",
    "100=20\n",
    "print(100)"
   ]
  },
  {
   "cell_type": "markdown",
   "id": "124e83f1",
   "metadata": {},
   "source": [
    "#9. What three functions can be used to get the integer, floating-point number, or string version of a value?"
   ]
  },
  {
   "cell_type": "markdown",
   "id": "db9c117d",
   "metadata": {},
   "source": [
    "    Ans. int(),float(),str()"
   ]
  },
  {
   "cell_type": "code",
   "execution_count": 13,
   "id": "6e470d2f",
   "metadata": {},
   "outputs": [],
   "source": [
    "a=1"
   ]
  },
  {
   "cell_type": "code",
   "execution_count": 10,
   "id": "b01efc2b",
   "metadata": {},
   "outputs": [
    {
     "data": {
      "text/plain": [
       "int"
      ]
     },
     "execution_count": 10,
     "metadata": {},
     "output_type": "execute_result"
    }
   ],
   "source": [
    "type(a)"
   ]
  },
  {
   "cell_type": "code",
   "execution_count": 14,
   "id": "21c2b22e",
   "metadata": {},
   "outputs": [
    {
     "data": {
      "text/plain": [
       "1.0"
      ]
     },
     "execution_count": 14,
     "metadata": {},
     "output_type": "execute_result"
    }
   ],
   "source": [
    "float(a)"
   ]
  },
  {
   "cell_type": "code",
   "execution_count": 15,
   "id": "6e890e5d",
   "metadata": {},
   "outputs": [
    {
     "data": {
      "text/plain": [
       "'1'"
      ]
     },
     "execution_count": 15,
     "metadata": {},
     "output_type": "execute_result"
    }
   ],
   "source": [
    "str(a)"
   ]
  },
  {
   "cell_type": "code",
   "execution_count": 16,
   "id": "4a14f30e",
   "metadata": {},
   "outputs": [
    {
     "data": {
      "text/plain": [
       "1"
      ]
     },
     "execution_count": 16,
     "metadata": {},
     "output_type": "execute_result"
    }
   ],
   "source": [
    "int(a)"
   ]
  },
  {
   "cell_type": "markdown",
   "id": "3732ed64",
   "metadata": {},
   "source": [
    "#10. Why does this expression cause an error? How can you fix it?\n",
    "     'I have eaten' + 99 + 'burritos.'\n",
    "     "
   ]
  },
  {
   "cell_type": "code",
   "execution_count": 17,
   "id": "07ea4eeb",
   "metadata": {},
   "outputs": [
    {
     "ename": "TypeError",
     "evalue": "can only concatenate str (not \"int\") to str",
     "output_type": "error",
     "traceback": [
      "\u001b[1;31m---------------------------------------------------------------------------\u001b[0m",
      "\u001b[1;31mTypeError\u001b[0m                                 Traceback (most recent call last)",
      "Input \u001b[1;32mIn [17]\u001b[0m, in \u001b[0;36m<cell line: 1>\u001b[1;34m()\u001b[0m\n\u001b[1;32m----> 1\u001b[0m \u001b[38;5;124;43m'\u001b[39;49m\u001b[38;5;124;43mI have eaten\u001b[39;49m\u001b[38;5;124;43m'\u001b[39;49m\u001b[43m \u001b[49m\u001b[38;5;241;43m+\u001b[39;49m\u001b[43m \u001b[49m\u001b[38;5;241;43m99\u001b[39;49m \u001b[38;5;241m+\u001b[39m \u001b[38;5;124m'\u001b[39m\u001b[38;5;124mburritos.\u001b[39m\u001b[38;5;124m'\u001b[39m\n",
      "\u001b[1;31mTypeError\u001b[0m: can only concatenate str (not \"int\") to str"
     ]
    }
   ],
   "source": [
    "#Ans.\n",
    "'I have eaten' + 99 + 'burritos.'"
   ]
  },
  {
   "cell_type": "code",
   "execution_count": 19,
   "id": "f691ee65",
   "metadata": {},
   "outputs": [
    {
     "data": {
      "text/plain": [
       "'I have eaten 99 burritos.'"
      ]
     },
     "execution_count": 19,
     "metadata": {},
     "output_type": "execute_result"
    }
   ],
   "source": [
    "# have to convert 99 into string\n",
    "'I have eaten ' + str(99) + ' burritos.'"
   ]
  },
  {
   "cell_type": "code",
   "execution_count": null,
   "id": "e9ba9312",
   "metadata": {},
   "outputs": [],
   "source": []
  }
 ],
 "metadata": {
  "kernelspec": {
   "display_name": "Python 3 (ipykernel)",
   "language": "python",
   "name": "python3"
  },
  "language_info": {
   "codemirror_mode": {
    "name": "ipython",
    "version": 3
   },
   "file_extension": ".py",
   "mimetype": "text/x-python",
   "name": "python",
   "nbconvert_exporter": "python",
   "pygments_lexer": "ipython3",
   "version": "3.9.12"
  }
 },
 "nbformat": 4,
 "nbformat_minor": 5
}
